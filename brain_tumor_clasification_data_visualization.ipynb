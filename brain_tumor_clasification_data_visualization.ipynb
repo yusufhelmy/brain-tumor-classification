{
  "nbformat": 4,
  "nbformat_minor": 0,
  "metadata": {
    "colab": {
      "name": "brain-tumor-clasification-data-visualization.ipynb",
      "provenance": []
    },
    "kernelspec": {
      "name": "python3",
      "display_name": "Python 3"
    },
    "language_info": {
      "name": "python"
    }
  },
  "cells": [
    {
      "cell_type": "code",
      "execution_count": null,
      "metadata": {
        "id": "9tKR38Xn8XHM"
      },
      "outputs": [],
      "source": [
        "#data loading\n",
        "#data visualization\n",
        "#data cleaning"
      ]
    }
  ]
}